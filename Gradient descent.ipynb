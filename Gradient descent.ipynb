{
 "cells": [
  {
   "cell_type": "code",
   "execution_count": 17,
   "id": "bed5d0c6",
   "metadata": {},
   "outputs": [],
   "source": [
    "import numpy as np"
   ]
  },
  {
   "cell_type": "code",
   "execution_count": 18,
   "id": "a5eefd86",
   "metadata": {},
   "outputs": [],
   "source": [
    "def f(x):\n",
    "    val = (x[2]*np.log(np.exp(x[0]/x[2]) + np.exp(x[1]/x[2])) + (x[2]-2)**2 + np.exp(1/(x[0]+x[1]))) \n",
    "    return val"
   ]
  },
  {
   "cell_type": "code",
   "execution_count": 19,
   "id": "eae76b5f",
   "metadata": {},
   "outputs": [],
   "source": [
    "def grad_f(x):\n",
    "    x1, x2, x3 = x[0], x[1], x[2]\n",
    "    f = np.array([\n",
    "                [(np.exp(x1/x3)/(np.exp(x1/x3)+np.exp(x2/x3)))-(np.exp(1/(x1+x2))/(x1+x2)**2)],\n",
    "                [(np.exp(x2/x3)/(np.exp(x1/x3)+np.exp(x2/x3)))-(np.exp(1/(x1+x2))/(x1+x2)**2)],\n",
    "                [np.log(np.exp(x1/x3) + np.exp(x2/x3)) - ((x1*np.exp(x1/x3) + x2*np.exp(x2/x3))/(x3*(np.exp(x1/x3) + np.exp(x2/x3)))) + 2*(x3-2)]\n",
    "                 ])\n",
    "    return f"
   ]
  },
  {
   "cell_type": "code",
   "execution_count": 20,
   "id": "e23ebf3e",
   "metadata": {},
   "outputs": [],
   "source": [
    "alpha = 0.4\n",
    "beta = 0.5\n",
    "epsilon = 10**-5"
   ]
  },
  {
   "cell_type": "code",
   "execution_count": 21,
   "id": "afe9bea4",
   "metadata": {},
   "outputs": [],
   "source": [
    "x_start = np.array([3,4,5])"
   ]
  },
  {
   "cell_type": "code",
   "execution_count": 32,
   "id": "39d16b1c",
   "metadata": {},
   "outputs": [],
   "source": [
    "#Domain constraints\n",
    "def domain_t(x):\n",
    "    t=1\n",
    "    while True:\n",
    "        v = x - t*grad_f(x).flatten()\n",
    "        e1 = v[0]\n",
    "        e2 = v[1]\n",
    "        e3 = v[2]\n",
    "        if e3>0 and e1+e2>0:\n",
    "            return t\n",
    "        t *= beta\n",
    "    return None"
   ]
  },
  {
   "cell_type": "code",
   "execution_count": 33,
   "id": "d0c1df51",
   "metadata": {},
   "outputs": [],
   "source": [
    "#Backtracking Line Search\n",
    "def backtrack_algo(x):\n",
    "    t = domain_t(x)\n",
    "    x_new = x - t * grad_f(x).flatten()\n",
    "    lhs = f(x_new)\n",
    "    r1 = f(x) \n",
    "    r2 = np.dot(grad_f(x).flatten(),grad_f(x).flatten())\n",
    "    rhs = r1 - t*alpha*r2\n",
    "    while lhs > rhs:\n",
    "        t = t*beta\n",
    "        x_new = x - t*grad_f(x).flatten()\n",
    "        lhs = f(x_new)\n",
    "        rhs = r1 - t*alpha*r2\n",
    "    return t"
   ]
  },
  {
   "cell_type": "code",
   "execution_count": 34,
   "id": "525cf20b",
   "metadata": {},
   "outputs": [
    {
     "name": "stdout",
     "output_type": "stream",
     "text": [
      "Optimal solution: [0.92618727 0.92622965 1.65342641]\n",
      "Optimal function value: 3.908113786397637\n",
      "Number of iterations taken to converge: 30\n"
     ]
    }
   ],
   "source": [
    "#Gradient Descent with Backtracking Line Search\n",
    "norm_nabla_f = np.dot(grad_f(x_start).flatten(), grad_f(x_start).flatten())**0.5\n",
    "\n",
    "iter =0\n",
    "while norm_nabla_f > epsilon:\n",
    "    direction = -grad_f(x_start).flatten()\n",
    "    t = backtrack_algo(x_start)\n",
    "    x_start = x_start + t * direction\n",
    "    norm_nabla_f = np.dot(grad_f(x_start).flatten(), grad_f(x_start).flatten())**0.5\n",
    "    iter=iter+1\n",
    "\n",
    "print(\"Optimal solution:\", x_start)\n",
    "fopt = f(x_start)\n",
    "print(\"Optimal function value:\", fopt)\n",
    "print(\"Number of iterations taken to converge:\", iter)"
   ]
  },
  {
   "cell_type": "code",
   "execution_count": null,
   "id": "7c0cfe85",
   "metadata": {},
   "outputs": [],
   "source": []
  }
 ],
 "metadata": {
  "kernelspec": {
   "display_name": "Python 3 (ipykernel)",
   "language": "python",
   "name": "python3"
  },
  "language_info": {
   "codemirror_mode": {
    "name": "ipython",
    "version": 3
   },
   "file_extension": ".py",
   "mimetype": "text/x-python",
   "name": "python",
   "nbconvert_exporter": "python",
   "pygments_lexer": "ipython3",
   "version": "3.11.5"
  }
 },
 "nbformat": 4,
 "nbformat_minor": 5
}
